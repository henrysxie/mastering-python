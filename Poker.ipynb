{
 "cells": [
  {
   "cell_type": "code",
   "execution_count": null,
   "metadata": {
    "collapsed": true
   },
   "outputs": [],
   "source": [
    "\"\"\"\n",
    "EXAMPLE\n",
    "Techniques Used\n",
    "- Range\n",
    "- Series\n",
    "- Lambda\n",
    "- np.random.permutation\n",
    "- List slicing\n",
    "- .sample\n",
    "- GroupBy\n",
    "\"\"\""
   ]
  },
  {
   "cell_type": "code",
   "execution_count": 58,
   "metadata": {
    "collapsed": true
   },
   "outputs": [],
   "source": [
    "import pandas as pd\n",
    "import numpy as np"
   ]
  },
  {
   "cell_type": "code",
   "execution_count": 59,
   "metadata": {
    "collapsed": true
   },
   "outputs": [],
   "source": [
    "suits = ['H', 'S', 'C', 'D']\n",
    "card_val = (range(1, 11) + [10] * 3) * 4\n",
    "base_names = ['A'] + range(2, 11) + ['J', 'Q', 'K']\n",
    "cards = []\n",
    "for suit in suits:\n",
    "    cards.extend(str(num) + suit for num in base_names)\n",
    "\n",
    "deck = pd.Series(card_val, index=cards)"
   ]
  },
  {
   "cell_type": "code",
   "execution_count": 60,
   "metadata": {
    "collapsed": false
   },
   "outputs": [],
   "source": [
    "def draw(deck, n=5):\n",
    "    return deck.take(np.random.permutation(len(deck))[:n])\n",
    "\n",
    "# Last letter is the suit\n",
    "get_suit = lambda card: card[-1]"
   ]
  },
  {
   "cell_type": "code",
   "execution_count": 61,
   "metadata": {
    "collapsed": false
   },
   "outputs": [
    {
     "data": {
      "text/plain": [
       "C  AC     1\n",
       "   2C     2\n",
       "D  AD     1\n",
       "   6D     6\n",
       "H  JH    10\n",
       "   7H     7\n",
       "S  JS    10\n",
       "   AS     1\n",
       "dtype: int64"
      ]
     },
     "execution_count": 61,
     "metadata": {},
     "output_type": "execute_result"
    }
   ],
   "source": [
    "# Get random suited poker hands for each suit\n",
    "deck.groupby(get_suit).apply(draw, n=2)"
   ]
  },
  {
   "cell_type": "code",
   "execution_count": 62,
   "metadata": {
    "collapsed": false
   },
   "outputs": [],
   "source": [
    "# Deal hands to 6 players\n",
    "def deal(num_players=6):\n",
    "    # 2 cards for each player and 5 for the board\n",
    "    hand = deck.sample(num_players * 2 + 5)\n",
    "    \n",
    "    # Slice selected cards \n",
    "    player_cards = hand[:num_players * 2]\n",
    "    board = hand[num_players * 2:]\n",
    "    flop = board[:3]\n",
    "    turn = board[3:4]\n",
    "    river = board[4:]\n",
    "\n",
    "    deal = {}\n",
    "    for i, hole_cards in enumerate(np.split(player_cards, num_players)):\n",
    "        key = 'player{}'.format(i)\n",
    "        deal[key] = hole_cards\n",
    "    \n",
    "    deal['flop'] = flop\n",
    "    deal['turn'] = turn\n",
    "    deal['river'] = river\n",
    "    return deal        "
   ]
  },
  {
   "cell_type": "code",
   "execution_count": 64,
   "metadata": {
    "collapsed": false
   },
   "outputs": [
    {
     "data": {
      "text/plain": [
       "{'flop': 7C    7\n",
       " 3C    3\n",
       " 2D    2\n",
       " dtype: int64, 'player0': 4S     4\n",
       " KS    10\n",
       " dtype: int64, 'player1': QC    10\n",
       " 9C     9\n",
       " dtype: int64, 'player2': 4D     4\n",
       " JC    10\n",
       " dtype: int64, 'player3': 7D    7\n",
       " AD    1\n",
       " dtype: int64, 'player4': JH    10\n",
       " 5H     5\n",
       " dtype: int64, 'player5': 10S    10\n",
       " JS     10\n",
       " dtype: int64, 'river': 8D    8\n",
       " dtype: int64, 'turn': 10C    10\n",
       " dtype: int64}"
      ]
     },
     "execution_count": 64,
     "metadata": {},
     "output_type": "execute_result"
    }
   ],
   "source": [
    "deal()"
   ]
  },
  {
   "cell_type": "code",
   "execution_count": null,
   "metadata": {
    "collapsed": true
   },
   "outputs": [],
   "source": []
  }
 ],
 "metadata": {
  "kernelspec": {
   "display_name": "Python 2",
   "language": "python",
   "name": "python2"
  },
  "language_info": {
   "codemirror_mode": {
    "name": "ipython",
    "version": 2
   },
   "file_extension": ".py",
   "mimetype": "text/x-python",
   "name": "python",
   "nbconvert_exporter": "python",
   "pygments_lexer": "ipython2",
   "version": "2.7.10"
  }
 },
 "nbformat": 4,
 "nbformat_minor": 0
}
