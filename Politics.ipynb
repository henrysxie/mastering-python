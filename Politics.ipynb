{
 "cells": [
  {
   "cell_type": "code",
   "execution_count": 16,
   "metadata": {
    "collapsed": false
   },
   "outputs": [
    {
     "data": {
      "text/plain": [
       "'\\nEXERCISE\\n\\nTechniques used:\\n- read_csv\\n- unique()\\n- .map()\\n- .value_counts()\\n- Boolean Indexing\\n- Data cleaning\\n- GroupBy\\n- .plot()\\n'"
      ]
     },
     "execution_count": 16,
     "metadata": {},
     "output_type": "execute_result"
    }
   ],
   "source": [
    "\"\"\"\n",
    "EXERCISE\n",
    "\n",
    "Techniques used:\n",
    "- read_csv\n",
    "- unique()\n",
    "- .map()\n",
    "- .value_counts()\n",
    "- Boolean Indexing\n",
    "- Data cleaning\n",
    "- GroupBy\n",
    "- .plot()\n",
    "\"\"\""
   ]
  },
  {
   "cell_type": "code",
   "execution_count": 17,
   "metadata": {
    "collapsed": false
   },
   "outputs": [],
   "source": [
    "%matplotlib inline\n",
    "\n",
    "import matplotlib\n",
    "import numpy as np\n",
    "import pandas as pd\n",
    "import matplotlib.pyplot as plt"
   ]
  },
  {
   "cell_type": "code",
   "execution_count": 18,
   "metadata": {
    "collapsed": false
   },
   "outputs": [
    {
     "data": {
      "text/plain": [
       "cmte_id                         C00410118\n",
       "cand_id                         P20002978\n",
       "cand_nm                Bachmann, Michelle\n",
       "contbr_nm                 RAINEY, PATRICK\n",
       "contbr_city                 WINTER GARDEN\n",
       "contbr_st                              FL\n",
       "contbr_zip                      347771599\n",
       "contbr_employer      INTL TRADING COMPANY\n",
       "contbr_occupation                  BROKER\n",
       "contb_receipt_amt                     250\n",
       "contb_receipt_dt                20-JUN-11\n",
       "receipt_desc                          NaN\n",
       "memo_cd                               NaN\n",
       "memo_text                             NaN\n",
       "form_tp                             SA17A\n",
       "file_num                           736166\n",
       "Name: 123, dtype: object"
      ]
     },
     "execution_count": 18,
     "metadata": {},
     "output_type": "execute_result"
    }
   ],
   "source": [
    "# 2012 election donation dataset\n",
    "fec = pd.read_csv('data/2012-election.csv', low_memory=False)\n",
    "\n",
    "# Inspect random row\n",
    "fec.ix[123]"
   ]
  },
  {
   "cell_type": "code",
   "execution_count": 19,
   "metadata": {
    "collapsed": false
   },
   "outputs": [
    {
     "data": {
      "text/plain": [
       "array(['Bachmann, Michelle', 'Romney, Mitt', 'Obama, Barack',\n",
       "       \"Roemer, Charles E. 'Buddy' III\", 'Pawlenty, Timothy',\n",
       "       'Johnson, Gary Earl', 'Paul, Ron', 'Santorum, Rick', 'Cain, Herman',\n",
       "       'Gingrich, Newt', 'McCotter, Thaddeus G', 'Huntsman, Jon',\n",
       "       'Perry, Rick'], dtype=object)"
      ]
     },
     "execution_count": 19,
     "metadata": {},
     "output_type": "execute_result"
    }
   ],
   "source": [
    "candidates = fec.cand_nm.unique()\n",
    "candidates"
   ]
  },
  {
   "cell_type": "code",
   "execution_count": 20,
   "metadata": {
    "collapsed": true
   },
   "outputs": [],
   "source": [
    "# Map candidates to parties\n",
    "parties = {'Bachmann, Michelle': 'Republican',\n",
    "           'Cain, Herman': 'Republican',\n",
    "           'Gingrich, Newt': 'Republican',\n",
    "           'Huntsman, Jon': 'Republican',\n",
    "           'Johnson, Gary Earl': 'Republican',\n",
    "           'McCotter, Thaddeus G': 'Republican',\n",
    "           'Obama, Barack': 'Democrat',\n",
    "           'Paul, Ron': 'Republican',\n",
    "           'Perry, Rick': 'Republican',\n",
    "           \"Roemer, Charles E. 'Buddy' III\": 'Republican',\n",
    "           'Romney, Mitt': 'Republican',\n",
    "           'Santorum, Rick': 'Republican'}"
   ]
  },
  {
   "cell_type": "code",
   "execution_count": 21,
   "metadata": {
    "collapsed": false
   },
   "outputs": [],
   "source": [
    "# Add party column to dataframe\n",
    "fec['party'] = fec.cand_nm.map(parties)"
   ]
  },
  {
   "cell_type": "code",
   "execution_count": 22,
   "metadata": {
    "collapsed": false
   },
   "outputs": [
    {
     "data": {
      "text/plain": [
       "Democrat      593746\n",
       "Republican    403430\n",
       "dtype: int64"
      ]
     },
     "execution_count": 22,
     "metadata": {},
     "output_type": "execute_result"
    }
   ],
   "source": [
    "# How many individual donations by party\n",
    "fec['party'].value_counts()"
   ]
  },
  {
   "cell_type": "code",
   "execution_count": 23,
   "metadata": {
    "collapsed": false
   },
   "outputs": [
    {
     "data": {
      "text/plain": [
       "True     991475\n",
       "False     10256\n",
       "dtype: int64"
      ]
     },
     "execution_count": 23,
     "metadata": {},
     "output_type": "execute_result"
    }
   ],
   "source": [
    "# Dataset include refunds (negative contributions)\n",
    "(fec.contb_receipt_amt > 0).value_counts()"
   ]
  },
  {
   "cell_type": "code",
   "execution_count": 24,
   "metadata": {
    "collapsed": false
   },
   "outputs": [],
   "source": [
    "# Simplify dataset to just positive contributions and Barack Obama, and Mitt Romney\n",
    "data = fec[fec.contb_receipt_amt > 0]\n",
    "nominees_data = fec[fec.cand_nm.isin(['Obama, Barack', 'Romney, Mitt'])]"
   ]
  },
  {
   "cell_type": "code",
   "execution_count": 25,
   "metadata": {
    "collapsed": false
   },
   "outputs": [
    {
     "data": {
      "text/plain": [
       "RETIRED                                   233990\n",
       "INFORMATION REQUESTED                      35107\n",
       "ATTORNEY                                   34286\n",
       "HOMEMAKER                                  29931\n",
       "PHYSICIAN                                  23432\n",
       "INFORMATION REQUESTED PER BEST EFFORTS     21138\n",
       "ENGINEER                                   14334\n",
       "TEACHER                                    13990\n",
       "CONSULTANT                                 13273\n",
       "PROFESSOR                                  12555\n",
       "dtype: int64"
      ]
     },
     "execution_count": 25,
     "metadata": {},
     "output_type": "execute_result"
    }
   ],
   "source": [
    "# Donation Stats by Occupation\n",
    "data.contbr_occupation.value_counts()[:10]"
   ]
  },
  {
   "cell_type": "code",
   "execution_count": 28,
   "metadata": {
    "collapsed": false
   },
   "outputs": [],
   "source": [
    "# Clean data\n",
    "occupation_map = {\n",
    "    'INFORMATION REQUESTED PER BEST EFFORTS': 'NOT PROVIDED',\n",
    "    'INFORMATION REQUESTED': 'NOT PROVIDED',\n",
    "    'INFORMATION REQUESTED (BEST EFFORTS)': 'NOT PROVIDED',\n",
    "    'C.E.O.': 'CEO'\n",
    "}\n",
    "\n",
    "# If no mapping, pass through original value\n",
    "f = lambda x: occupation_map.get(x, x)\n",
    "data.contbr_occupation = data.contbr_occupation.map(f)\n",
    "\n",
    "employer_map = {\n",
    "    'INFORMATION REQUESTED PER BEST EFFORTS': 'NOT PROVIDED',\n",
    "    'INFORMATION REQUESTED': 'NOT PROVIDED',\n",
    "    'SELF': 'SELF-EMPLOYED',\n",
    "    'SELF EMPLOYED': 'SELF-EMPLOYED',\n",
    "}\n",
    "f = lambda x: employer_map.get(x, x)\n",
    "data.contbr_employer = data.contbr_employer.map(f)\n"
   ]
  },
  {
   "cell_type": "code",
   "execution_count": 32,
   "metadata": {
    "collapsed": false
   },
   "outputs": [
    {
     "data": {
      "text/html": [
       "<div>\n",
       "<table border=\"1\" class=\"dataframe\">\n",
       "  <thead>\n",
       "    <tr style=\"text-align: right;\">\n",
       "      <th>party</th>\n",
       "      <th>Democrat</th>\n",
       "      <th>Republican</th>\n",
       "    </tr>\n",
       "    <tr>\n",
       "      <th>contbr_occupation</th>\n",
       "      <th></th>\n",
       "      <th></th>\n",
       "    </tr>\n",
       "  </thead>\n",
       "  <tbody>\n",
       "    <tr>\n",
       "      <th>MIXED-MEDIA ARTIST / STORYTELLER</th>\n",
       "      <td>100</td>\n",
       "      <td>NaN</td>\n",
       "    </tr>\n",
       "    <tr>\n",
       "      <th>AREA VICE PRESIDENT</th>\n",
       "      <td>250</td>\n",
       "      <td>NaN</td>\n",
       "    </tr>\n",
       "    <tr>\n",
       "      <th>RESEARCH ASSOCIATE</th>\n",
       "      <td>100</td>\n",
       "      <td>NaN</td>\n",
       "    </tr>\n",
       "    <tr>\n",
       "      <th>TEACHER</th>\n",
       "      <td>500</td>\n",
       "      <td>NaN</td>\n",
       "    </tr>\n",
       "    <tr>\n",
       "      <th>THERAPIST</th>\n",
       "      <td>3900</td>\n",
       "      <td>NaN</td>\n",
       "    </tr>\n",
       "    <tr>\n",
       "      <th>'MIS MANAGER</th>\n",
       "      <td>NaN</td>\n",
       "      <td>177.60</td>\n",
       "    </tr>\n",
       "    <tr>\n",
       "      <th>(RETIRED)</th>\n",
       "      <td>NaN</td>\n",
       "      <td>250.00</td>\n",
       "    </tr>\n",
       "    <tr>\n",
       "      <th>-</th>\n",
       "      <td>5000</td>\n",
       "      <td>2114.80</td>\n",
       "    </tr>\n",
       "    <tr>\n",
       "      <th>--</th>\n",
       "      <td>NaN</td>\n",
       "      <td>75.00</td>\n",
       "    </tr>\n",
       "    <tr>\n",
       "      <th>.NET PROGRAMMER</th>\n",
       "      <td>481</td>\n",
       "      <td>NaN</td>\n",
       "    </tr>\n",
       "    <tr>\n",
       "      <th>0</th>\n",
       "      <td>NaN</td>\n",
       "      <td>20.00</td>\n",
       "    </tr>\n",
       "    <tr>\n",
       "      <th>07/13/1972</th>\n",
       "      <td>98</td>\n",
       "      <td>NaN</td>\n",
       "    </tr>\n",
       "    <tr>\n",
       "      <th>100% DISABLED ARMY VET</th>\n",
       "      <td>NaN</td>\n",
       "      <td>350.00</td>\n",
       "    </tr>\n",
       "    <tr>\n",
       "      <th>100% DISABLED VETERAN</th>\n",
       "      <td>NaN</td>\n",
       "      <td>2080.78</td>\n",
       "    </tr>\n",
       "    <tr>\n",
       "      <th>100% DISABLED VIET NAM COMBAT VETER</th>\n",
       "      <td>NaN</td>\n",
       "      <td>100.00</td>\n",
       "    </tr>\n",
       "    <tr>\n",
       "      <th>100% DISABLED VIETNAM VETERAN</th>\n",
       "      <td>NaN</td>\n",
       "      <td>236.25</td>\n",
       "    </tr>\n",
       "    <tr>\n",
       "      <th>11B</th>\n",
       "      <td>NaN</td>\n",
       "      <td>300.00</td>\n",
       "    </tr>\n",
       "    <tr>\n",
       "      <th>12K ADVOCATE</th>\n",
       "      <td>150</td>\n",
       "      <td>NaN</td>\n",
       "    </tr>\n",
       "    <tr>\n",
       "      <th>13B CANNON CREWMEMBER</th>\n",
       "      <td>NaN</td>\n",
       "      <td>71.80</td>\n",
       "    </tr>\n",
       "    <tr>\n",
       "      <th>13D</th>\n",
       "      <td>721</td>\n",
       "      <td>NaN</td>\n",
       "    </tr>\n",
       "    <tr>\n",
       "      <th>15J</th>\n",
       "      <td>NaN</td>\n",
       "      <td>150.00</td>\n",
       "    </tr>\n",
       "    <tr>\n",
       "      <th>15U - CHINOOK MECHANIC</th>\n",
       "      <td>NaN</td>\n",
       "      <td>200.00</td>\n",
       "    </tr>\n",
       "    <tr>\n",
       "      <th>1SG RETIRED</th>\n",
       "      <td>210</td>\n",
       "      <td>NaN</td>\n",
       "    </tr>\n",
       "    <tr>\n",
       "      <th>1ST ASSISTANT DIRECTOR 2ND UNIT</th>\n",
       "      <td>35</td>\n",
       "      <td>NaN</td>\n",
       "    </tr>\n",
       "    <tr>\n",
       "      <th>1ST ASSISTANT SOUND EDITOR</th>\n",
       "      <td>NaN</td>\n",
       "      <td>292.80</td>\n",
       "    </tr>\n",
       "    <tr>\n",
       "      <th>1ST GRADE TEACHER</th>\n",
       "      <td>435</td>\n",
       "      <td>NaN</td>\n",
       "    </tr>\n",
       "    <tr>\n",
       "      <th>1ST LIEUTENANT (MILITARY OFFICER)</th>\n",
       "      <td>NaN</td>\n",
       "      <td>500.00</td>\n",
       "    </tr>\n",
       "    <tr>\n",
       "      <th>1ST LIEUTENANT (RET)</th>\n",
       "      <td>NaN</td>\n",
       "      <td>449.50</td>\n",
       "    </tr>\n",
       "    <tr>\n",
       "      <th>1ST LT</th>\n",
       "      <td>NaN</td>\n",
       "      <td>500.00</td>\n",
       "    </tr>\n",
       "    <tr>\n",
       "      <th>1ST VP WEALTH MANAGEMENT</th>\n",
       "      <td>559</td>\n",
       "      <td>NaN</td>\n",
       "    </tr>\n",
       "    <tr>\n",
       "      <th>...</th>\n",
       "      <td>...</td>\n",
       "      <td>...</td>\n",
       "    </tr>\n",
       "    <tr>\n",
       "      <th>YOUTH CORRECTIONS SUPERVISOR</th>\n",
       "      <td>50</td>\n",
       "      <td>NaN</td>\n",
       "    </tr>\n",
       "    <tr>\n",
       "      <th>YOUTH COUNSELOR</th>\n",
       "      <td>NaN</td>\n",
       "      <td>1133.05</td>\n",
       "    </tr>\n",
       "    <tr>\n",
       "      <th>YOUTH COUNTRY CHAIR</th>\n",
       "      <td>NaN</td>\n",
       "      <td>250.00</td>\n",
       "    </tr>\n",
       "    <tr>\n",
       "      <th>YOUTH DEVELOPMENT</th>\n",
       "      <td>650</td>\n",
       "      <td>NaN</td>\n",
       "    </tr>\n",
       "    <tr>\n",
       "      <th>YOUTH DIRECTOR</th>\n",
       "      <td>550</td>\n",
       "      <td>546.32</td>\n",
       "    </tr>\n",
       "    <tr>\n",
       "      <th>YOUTH MINISTER</th>\n",
       "      <td>725</td>\n",
       "      <td>780.24</td>\n",
       "    </tr>\n",
       "    <tr>\n",
       "      <th>YOUTH MINISTRY</th>\n",
       "      <td>NaN</td>\n",
       "      <td>250.00</td>\n",
       "    </tr>\n",
       "    <tr>\n",
       "      <th>YOUTH OUTREACH DIRECTOR</th>\n",
       "      <td>NaN</td>\n",
       "      <td>1000.00</td>\n",
       "    </tr>\n",
       "    <tr>\n",
       "      <th>YOUTH PASTOR</th>\n",
       "      <td>NaN</td>\n",
       "      <td>335.00</td>\n",
       "    </tr>\n",
       "    <tr>\n",
       "      <th>YOUTH PROGRAMS DIRECTOR</th>\n",
       "      <td>205</td>\n",
       "      <td>NaN</td>\n",
       "    </tr>\n",
       "    <tr>\n",
       "      <th>YOUTH SERVICE AIDE</th>\n",
       "      <td>NaN</td>\n",
       "      <td>88.60</td>\n",
       "    </tr>\n",
       "    <tr>\n",
       "      <th>YOUTH SERVICE COORDINATOR</th>\n",
       "      <td>425</td>\n",
       "      <td>NaN</td>\n",
       "    </tr>\n",
       "    <tr>\n",
       "      <th>YOUTH SERVICES LIBRARIAN</th>\n",
       "      <td>290</td>\n",
       "      <td>NaN</td>\n",
       "    </tr>\n",
       "    <tr>\n",
       "      <th>YOUTH SERVICES MANAGER</th>\n",
       "      <td>300</td>\n",
       "      <td>NaN</td>\n",
       "    </tr>\n",
       "    <tr>\n",
       "      <th>YOUTH SPECIALIST</th>\n",
       "      <td>652</td>\n",
       "      <td>NaN</td>\n",
       "    </tr>\n",
       "    <tr>\n",
       "      <th>YOUTH SPORTS DIRECTOR</th>\n",
       "      <td>110</td>\n",
       "      <td>NaN</td>\n",
       "    </tr>\n",
       "    <tr>\n",
       "      <th>YOUTH VOTE DIRECTOR</th>\n",
       "      <td>165</td>\n",
       "      <td>NaN</td>\n",
       "    </tr>\n",
       "    <tr>\n",
       "      <th>YOUTH WORKER</th>\n",
       "      <td>NaN</td>\n",
       "      <td>1011.74</td>\n",
       "    </tr>\n",
       "    <tr>\n",
       "      <th>ZEN BUDDHIST PRIEST</th>\n",
       "      <td>400</td>\n",
       "      <td>NaN</td>\n",
       "    </tr>\n",
       "    <tr>\n",
       "      <th>ZEN TEACHER</th>\n",
       "      <td>100</td>\n",
       "      <td>NaN</td>\n",
       "    </tr>\n",
       "    <tr>\n",
       "      <th>ZEPPOS AND ASSOCIATES</th>\n",
       "      <td>1000</td>\n",
       "      <td>NaN</td>\n",
       "    </tr>\n",
       "    <tr>\n",
       "      <th>ZIMMERMANS DAIRY</th>\n",
       "      <td>NaN</td>\n",
       "      <td>83.71</td>\n",
       "    </tr>\n",
       "    <tr>\n",
       "      <th>ZMS</th>\n",
       "      <td>NaN</td>\n",
       "      <td>70.12</td>\n",
       "    </tr>\n",
       "    <tr>\n",
       "      <th>ZOMBIE SLAYER</th>\n",
       "      <td>NaN</td>\n",
       "      <td>125.00</td>\n",
       "    </tr>\n",
       "    <tr>\n",
       "      <th>ZONE MANAGER</th>\n",
       "      <td>135</td>\n",
       "      <td>NaN</td>\n",
       "    </tr>\n",
       "    <tr>\n",
       "      <th>ZOOKEEPER</th>\n",
       "      <td>35</td>\n",
       "      <td>NaN</td>\n",
       "    </tr>\n",
       "    <tr>\n",
       "      <th>ZOOLOGIST</th>\n",
       "      <td>400</td>\n",
       "      <td>NaN</td>\n",
       "    </tr>\n",
       "    <tr>\n",
       "      <th>ZOOLOGY EDUCATION</th>\n",
       "      <td>25</td>\n",
       "      <td>NaN</td>\n",
       "    </tr>\n",
       "    <tr>\n",
       "      <th>\\NONE\\</th>\n",
       "      <td>NaN</td>\n",
       "      <td>250.00</td>\n",
       "    </tr>\n",
       "    <tr>\n",
       "      <th>~</th>\n",
       "      <td>NaN</td>\n",
       "      <td>75.00</td>\n",
       "    </tr>\n",
       "  </tbody>\n",
       "</table>\n",
       "<p>44894 rows × 2 columns</p>\n",
       "</div>"
      ],
      "text/plain": [
       "party                                Democrat  Republican\n",
       "contbr_occupation                                        \n",
       "   MIXED-MEDIA ARTIST / STORYTELLER       100         NaN\n",
       " AREA VICE PRESIDENT                      250         NaN\n",
       " RESEARCH ASSOCIATE                       100         NaN\n",
       " TEACHER                                  500         NaN\n",
       " THERAPIST                               3900         NaN\n",
       "'MIS MANAGER                              NaN      177.60\n",
       "(RETIRED)                                 NaN      250.00\n",
       "-                                        5000     2114.80\n",
       "--                                        NaN       75.00\n",
       ".NET PROGRAMMER                           481         NaN\n",
       "0                                         NaN       20.00\n",
       "07/13/1972                                 98         NaN\n",
       "100% DISABLED ARMY VET                    NaN      350.00\n",
       "100% DISABLED VETERAN                     NaN     2080.78\n",
       "100% DISABLED VIET NAM COMBAT VETER       NaN      100.00\n",
       "100% DISABLED VIETNAM VETERAN             NaN      236.25\n",
       "11B                                       NaN      300.00\n",
       "12K ADVOCATE                              150         NaN\n",
       "13B CANNON CREWMEMBER                     NaN       71.80\n",
       "13D                                       721         NaN\n",
       "15J                                       NaN      150.00\n",
       "15U - CHINOOK MECHANIC                    NaN      200.00\n",
       "1SG RETIRED                               210         NaN\n",
       "1ST ASSISTANT DIRECTOR 2ND UNIT            35         NaN\n",
       "1ST ASSISTANT SOUND EDITOR                NaN      292.80\n",
       "1ST GRADE TEACHER                         435         NaN\n",
       "1ST LIEUTENANT (MILITARY OFFICER)         NaN      500.00\n",
       "1ST LIEUTENANT (RET)                      NaN      449.50\n",
       "1ST LT                                    NaN      500.00\n",
       "1ST VP WEALTH MANAGEMENT                  559         NaN\n",
       "...                                       ...         ...\n",
       "YOUTH CORRECTIONS SUPERVISOR               50         NaN\n",
       "YOUTH COUNSELOR                           NaN     1133.05\n",
       "YOUTH COUNTRY CHAIR                       NaN      250.00\n",
       "YOUTH DEVELOPMENT                         650         NaN\n",
       "YOUTH DIRECTOR                            550      546.32\n",
       "YOUTH MINISTER                            725      780.24\n",
       "YOUTH MINISTRY                            NaN      250.00\n",
       "YOUTH OUTREACH DIRECTOR                   NaN     1000.00\n",
       "YOUTH PASTOR                              NaN      335.00\n",
       "YOUTH PROGRAMS DIRECTOR                   205         NaN\n",
       "YOUTH SERVICE AIDE                        NaN       88.60\n",
       "YOUTH SERVICE COORDINATOR                 425         NaN\n",
       "YOUTH SERVICES LIBRARIAN                  290         NaN\n",
       "YOUTH SERVICES MANAGER                    300         NaN\n",
       "YOUTH SPECIALIST                          652         NaN\n",
       "YOUTH SPORTS DIRECTOR                     110         NaN\n",
       "YOUTH VOTE DIRECTOR                       165         NaN\n",
       "YOUTH WORKER                              NaN     1011.74\n",
       "ZEN BUDDHIST PRIEST                       400         NaN\n",
       "ZEN TEACHER                               100         NaN\n",
       "ZEPPOS AND ASSOCIATES                    1000         NaN\n",
       "ZIMMERMANS DAIRY                          NaN       83.71\n",
       "ZMS                                       NaN       70.12\n",
       "ZOMBIE SLAYER                             NaN      125.00\n",
       "ZONE MANAGER                              135         NaN\n",
       "ZOOKEEPER                                  35         NaN\n",
       "ZOOLOGIST                                 400         NaN\n",
       "ZOOLOGY EDUCATION                          25         NaN\n",
       "\\NONE\\                                    NaN      250.00\n",
       "~                                         NaN       75.00\n",
       "\n",
       "[44894 rows x 2 columns]"
      ]
     },
     "execution_count": 32,
     "metadata": {},
     "output_type": "execute_result"
    }
   ],
   "source": [
    "by_occupation = data.pivot_table('contb_receipt_amt',\n",
    "                                 index='contbr_occupation',\n",
    "                                 columns='party', aggfunc='sum')\n",
    "by_occupation"
   ]
  },
  {
   "cell_type": "code",
   "execution_count": 34,
   "metadata": {
    "collapsed": false
   },
   "outputs": [
    {
     "data": {
      "text/html": [
       "<div>\n",
       "<table border=\"1\" class=\"dataframe\">\n",
       "  <thead>\n",
       "    <tr style=\"text-align: right;\">\n",
       "      <th>party</th>\n",
       "      <th>Democrat</th>\n",
       "      <th>Republican</th>\n",
       "    </tr>\n",
       "    <tr>\n",
       "      <th>contbr_occupation</th>\n",
       "      <th></th>\n",
       "      <th></th>\n",
       "    </tr>\n",
       "  </thead>\n",
       "  <tbody>\n",
       "    <tr>\n",
       "      <th>ATTORNEY</th>\n",
       "      <td>11141982.97</td>\n",
       "      <td>7214482.230000</td>\n",
       "    </tr>\n",
       "    <tr>\n",
       "      <th>CEO</th>\n",
       "      <td>2074974.79</td>\n",
       "      <td>3862590.520000</td>\n",
       "    </tr>\n",
       "    <tr>\n",
       "      <th>CONSULTANT</th>\n",
       "      <td>2459912.71</td>\n",
       "      <td>2434349.400000</td>\n",
       "    </tr>\n",
       "    <tr>\n",
       "      <th>ENGINEER</th>\n",
       "      <td>951525.55</td>\n",
       "      <td>1802248.700000</td>\n",
       "    </tr>\n",
       "    <tr>\n",
       "      <th>EXECUTIVE</th>\n",
       "      <td>1355161.05</td>\n",
       "      <td>3964650.090000</td>\n",
       "    </tr>\n",
       "    <tr>\n",
       "      <th>HOMEMAKER</th>\n",
       "      <td>4248875.80</td>\n",
       "      <td>12715782.760000</td>\n",
       "    </tr>\n",
       "    <tr>\n",
       "      <th>INVESTOR</th>\n",
       "      <td>884133.00</td>\n",
       "      <td>2295168.920000</td>\n",
       "    </tr>\n",
       "    <tr>\n",
       "      <th>LAWYER</th>\n",
       "      <td>3160478.87</td>\n",
       "      <td>327224.320000</td>\n",
       "    </tr>\n",
       "    <tr>\n",
       "      <th>MANAGER</th>\n",
       "      <td>762883.22</td>\n",
       "      <td>1394467.370000</td>\n",
       "    </tr>\n",
       "    <tr>\n",
       "      <th>NOT PROVIDED</th>\n",
       "      <td>4866973.96</td>\n",
       "      <td>20337131.830000</td>\n",
       "    </tr>\n",
       "    <tr>\n",
       "      <th>OWNER</th>\n",
       "      <td>1001567.36</td>\n",
       "      <td>2294861.920000</td>\n",
       "    </tr>\n",
       "    <tr>\n",
       "      <th>PHYSICIAN</th>\n",
       "      <td>3735124.94</td>\n",
       "      <td>3539687.170000</td>\n",
       "    </tr>\n",
       "    <tr>\n",
       "      <th>PRESIDENT</th>\n",
       "      <td>1878509.95</td>\n",
       "      <td>4464514.840000</td>\n",
       "    </tr>\n",
       "    <tr>\n",
       "      <th>PROFESSOR</th>\n",
       "      <td>2165071.08</td>\n",
       "      <td>294922.730000</td>\n",
       "    </tr>\n",
       "    <tr>\n",
       "      <th>REAL ESTATE</th>\n",
       "      <td>528902.09</td>\n",
       "      <td>1585502.250000</td>\n",
       "    </tr>\n",
       "    <tr>\n",
       "      <th>RETIRED</th>\n",
       "      <td>25305116.38</td>\n",
       "      <td>22863149.489999</td>\n",
       "    </tr>\n",
       "    <tr>\n",
       "      <th>SELF-EMPLOYED</th>\n",
       "      <td>672393.40</td>\n",
       "      <td>1606652.540000</td>\n",
       "    </tr>\n",
       "  </tbody>\n",
       "</table>\n",
       "</div>"
      ],
      "text/plain": [
       "party                 Democrat       Republican\n",
       "contbr_occupation                              \n",
       "ATTORNEY           11141982.97   7214482.230000\n",
       "CEO                 2074974.79   3862590.520000\n",
       "CONSULTANT          2459912.71   2434349.400000\n",
       "ENGINEER             951525.55   1802248.700000\n",
       "EXECUTIVE           1355161.05   3964650.090000\n",
       "HOMEMAKER           4248875.80  12715782.760000\n",
       "INVESTOR             884133.00   2295168.920000\n",
       "LAWYER              3160478.87    327224.320000\n",
       "MANAGER              762883.22   1394467.370000\n",
       "NOT PROVIDED        4866973.96  20337131.830000\n",
       "OWNER               1001567.36   2294861.920000\n",
       "PHYSICIAN           3735124.94   3539687.170000\n",
       "PRESIDENT           1878509.95   4464514.840000\n",
       "PROFESSOR           2165071.08    294922.730000\n",
       "REAL ESTATE          528902.09   1585502.250000\n",
       "RETIRED            25305116.38  22863149.489999\n",
       "SELF-EMPLOYED        672393.40   1606652.540000"
      ]
     },
     "execution_count": 34,
     "metadata": {},
     "output_type": "execute_result"
    }
   ],
   "source": [
    "over_2mm = by_occupation[by_occupation.sum(1) > 2000000]\n",
    "over_2mm"
   ]
  },
  {
   "cell_type": "code",
   "execution_count": 39,
   "metadata": {
    "collapsed": false
   },
   "outputs": [
    {
     "data": {
      "text/plain": [
       "<matplotlib.text.Text at 0x1054cb810>"
      ]
     },
     "execution_count": 39,
     "metadata": {},
     "output_type": "execute_result"
    },
    {
     "data": {
      "image/png": "[encoded data removed]",
      "text/plain": [
       "<matplotlib.figure.Figure at 0x10f804b90>"
      ]
     },
     "metadata": {},
     "output_type": "display_data"
    }
   ],
   "source": [
    "# We can quickly visualize this with a barchart\n",
    "ax = over_2mm.plot(kind='barh', figsize=(15,9), title=\"# Donations by Occupation\")\n",
    "ax.set_ylabel('Occupation')"
   ]
  },
  {
   "cell_type": "code",
   "execution_count": 40,
   "metadata": {
    "collapsed": true
   },
   "outputs": [],
   "source": [
    "# Get top donor occupations and companies for Obama and Romney\n",
    "def get_top_amounts(group, key, n=5):\n",
    "    totals = group.groupby(key)['contb_receipt_amt'].sum()\n",
    "    return totals.order(ascending=False)[:n]"
   ]
  },
  {
   "cell_type": "code",
   "execution_count": 41,
   "metadata": {
    "collapsed": false
   },
   "outputs": [
    {
     "data": {
      "text/plain": [
       "cand_nm        contbr_occupation                     \n",
       "Obama, Barack  RETIRED                                   25270507.23\n",
       "               ATTORNEY                                  11126932.97\n",
       "               INFORMATION REQUESTED                      4849801.96\n",
       "               HOMEMAKER                                  4243394.30\n",
       "               PHYSICIAN                                  3732387.44\n",
       "               LAWYER                                     3159391.87\n",
       "               CONSULTANT                                 2459812.71\n",
       "               PROFESSOR                                  2163571.08\n",
       "               CEO                                        2069784.79\n",
       "               PRESIDENT                                  1878009.95\n",
       "Romney, Mitt   RETIRED                                   11266949.23\n",
       "               INFORMATION REQUESTED PER BEST EFFORTS    11173374.84\n",
       "               HOMEMAKER                                  8037250.86\n",
       "               ATTORNEY                                   5302578.82\n",
       "               PRESIDENT                                  2403439.77\n",
       "               EXECUTIVE                                  2230653.79\n",
       "               C.E.O.                                     1893931.11\n",
       "               INVESTOR                                   1494725.12\n",
       "               CONSULTANT                                 1404576.94\n",
       "               PHYSICIAN                                  1332996.34\n",
       "Name: contb_receipt_amt, dtype: float64"
      ]
     },
     "execution_count": 41,
     "metadata": {},
     "output_type": "execute_result"
    }
   ],
   "source": [
    "grouped = nominees_data.groupby('cand_nm')\n",
    "\n",
    "# Top 10 donors by occupation\n",
    "grouped.apply(get_top_amounts, 'contbr_occupation', n=10)"
   ]
  },
  {
   "cell_type": "code",
   "execution_count": 64,
   "metadata": {
    "collapsed": false
   },
   "outputs": [
    {
     "data": {
      "text/plain": [
       "cand_nm        contbr_employer                       \n",
       "Obama, Barack  RETIRED                                   22665902.20\n",
       "               SELF-EMPLOYED                             17038455.96\n",
       "               NOT EMPLOYED                               8584118.70\n",
       "               INFORMATION REQUESTED                      5036178.37\n",
       "               HOMEMAKER                                  2599987.04\n",
       "               SELF                                       1076531.20\n",
       "               SELF EMPLOYED                               469290.00\n",
       "               STUDENT                                     318831.45\n",
       "               VOLUNTEER                                   257104.00\n",
       "               MICROSOFT                                   215585.36\n",
       "Romney, Mitt   INFORMATION REQUESTED PER BEST EFFORTS    11827237.12\n",
       "               RETIRED                                   11264701.35\n",
       "               HOMEMAKER                                  8037000.86\n",
       "               SELF-EMPLOYED                              7260882.29\n",
       "               STUDENT                                     488642.82\n",
       "               CREDIT SUISSE                               265650.00\n",
       "               MORGAN STANLEY                              262266.00\n",
       "               GOLDMAN SACH & CO.                          233250.00\n",
       "               BARCLAYS CAPITAL                            162750.00\n",
       "               H.I.G. CAPITAL                              139500.00\n",
       "Name: contb_receipt_amt, dtype: float64"
      ]
     },
     "execution_count": 64,
     "metadata": {},
     "output_type": "execute_result"
    }
   ],
   "source": [
    "# Top 10 donors by employer\n",
    "grouped.apply(get_top_amounts, 'contbr_employer', n=10)"
   ]
  },
  {
   "cell_type": "code",
   "execution_count": null,
   "metadata": {
    "collapsed": true
   },
   "outputs": [],
   "source": []
  }
 ],
 "metadata": {
  "kernelspec": {
   "display_name": "Python 2",
   "language": "python",
   "name": "python2"
  },
  "language_info": {
   "codemirror_mode": {
    "name": "ipython",
    "version": 2
   },
   "file_extension": ".py",
   "mimetype": "text/x-python",
   "name": "python",
   "nbconvert_exporter": "python",
   "pygments_lexer": "ipython2",
   "version": "2.7.10"
  }
 },
 "nbformat": 4,
 "nbformat_minor": 0
}
