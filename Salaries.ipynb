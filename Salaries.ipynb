{
 "cells": [
  {
   "cell_type": "code",
   "execution_count": null,
   "metadata": {
    "collapsed": true
   },
   "outputs": [],
   "source": [
    "\"\"\"\n",
    "- Reinforces techniques to read in data\n",
    "- Introduces GroupBy\n",
    "- Introduces Data Viz\n",
    "\"\"\""
   ]
  },
  {
   "cell_type": "code",
   "execution_count": 19,
   "metadata": {
    "collapsed": true
   },
   "outputs": [],
   "source": [
    "%matplotlib inline\n",
    "\n",
    "import matplotlib\n",
    "import numpy as np\n",
    "import pandas as pd\n",
    "import matplotlib.pyplot as plt"
   ]
  },
  {
   "cell_type": "code",
   "execution_count": 13,
   "metadata": {
    "collapsed": false
   },
   "outputs": [
    {
     "data": {
      "text/html": [
       "<div>\n",
       "<table border=\"1\" class=\"dataframe\">\n",
       "  <thead>\n",
       "    <tr style=\"text-align: right;\">\n",
       "      <th></th>\n",
       "      <th>Name</th>\n",
       "      <th>Position Title</th>\n",
       "      <th>Department</th>\n",
       "      <th>Employee Annual Salary</th>\n",
       "    </tr>\n",
       "  </thead>\n",
       "  <tbody>\n",
       "    <tr>\n",
       "      <th>0</th>\n",
       "      <td>AARON,  ELVIA J</td>\n",
       "      <td>WATER RATE TAKER</td>\n",
       "      <td>WATER MGMNT</td>\n",
       "      <td>$88968.00</td>\n",
       "    </tr>\n",
       "    <tr>\n",
       "      <th>1</th>\n",
       "      <td>AARON,  JEFFERY M</td>\n",
       "      <td>POLICE OFFICER</td>\n",
       "      <td>POLICE</td>\n",
       "      <td>$80778.00</td>\n",
       "    </tr>\n",
       "    <tr>\n",
       "      <th>2</th>\n",
       "      <td>AARON,  KARINA</td>\n",
       "      <td>POLICE OFFICER</td>\n",
       "      <td>POLICE</td>\n",
       "      <td>$80778.00</td>\n",
       "    </tr>\n",
       "    <tr>\n",
       "      <th>3</th>\n",
       "      <td>AARON,  KIMBERLEI R</td>\n",
       "      <td>CHIEF CONTRACT EXPEDITER</td>\n",
       "      <td>GENERAL SERVICES</td>\n",
       "      <td>$84780.00</td>\n",
       "    </tr>\n",
       "    <tr>\n",
       "      <th>4</th>\n",
       "      <td>ABAD JR,  VICENTE M</td>\n",
       "      <td>CIVIL ENGINEER IV</td>\n",
       "      <td>WATER MGMNT</td>\n",
       "      <td>$104736.00</td>\n",
       "    </tr>\n",
       "  </tbody>\n",
       "</table>\n",
       "</div>"
      ],
      "text/plain": [
       "                  Name            Position Title        Department  \\\n",
       "0      AARON,  ELVIA J          WATER RATE TAKER       WATER MGMNT   \n",
       "1    AARON,  JEFFERY M            POLICE OFFICER            POLICE   \n",
       "2       AARON,  KARINA            POLICE OFFICER            POLICE   \n",
       "3  AARON,  KIMBERLEI R  CHIEF CONTRACT EXPEDITER  GENERAL SERVICES   \n",
       "4  ABAD JR,  VICENTE M         CIVIL ENGINEER IV       WATER MGMNT   \n",
       "\n",
       "  Employee Annual Salary  \n",
       "0              $88968.00  \n",
       "1              $80778.00  \n",
       "2              $80778.00  \n",
       "3              $84780.00  \n",
       "4             $104736.00  "
      ]
     },
     "execution_count": 13,
     "metadata": {},
     "output_type": "execute_result"
    }
   ],
   "source": [
    "# Reading CSV with Pandas is super easy\n",
    "chicago = pd.read_csv('data/chicago-salaries.csv')\n",
    "chicago.head()"
   ]
  },
  {
   "cell_type": "code",
   "execution_count": 14,
   "metadata": {
    "collapsed": false
   },
   "outputs": [
    {
     "data": {
      "text/html": [
       "<div>\n",
       "<table border=\"1\" class=\"dataframe\">\n",
       "  <thead>\n",
       "    <tr style=\"text-align: right;\">\n",
       "      <th></th>\n",
       "      <th>Name</th>\n",
       "      <th>Department</th>\n",
       "      <th>Employee Annual Salary</th>\n",
       "    </tr>\n",
       "  </thead>\n",
       "  <tbody>\n",
       "    <tr>\n",
       "      <th>0</th>\n",
       "      <td>AARON,  ELVIA J</td>\n",
       "      <td>WATER MGMNT</td>\n",
       "      <td>$88968.00</td>\n",
       "    </tr>\n",
       "    <tr>\n",
       "      <th>1</th>\n",
       "      <td>AARON,  JEFFERY M</td>\n",
       "      <td>POLICE</td>\n",
       "      <td>$80778.00</td>\n",
       "    </tr>\n",
       "    <tr>\n",
       "      <th>2</th>\n",
       "      <td>AARON,  KARINA</td>\n",
       "      <td>POLICE</td>\n",
       "      <td>$80778.00</td>\n",
       "    </tr>\n",
       "    <tr>\n",
       "      <th>3</th>\n",
       "      <td>AARON,  KIMBERLEI R</td>\n",
       "      <td>GENERAL SERVICES</td>\n",
       "      <td>$84780.00</td>\n",
       "    </tr>\n",
       "    <tr>\n",
       "      <th>4</th>\n",
       "      <td>ABAD JR,  VICENTE M</td>\n",
       "      <td>WATER MGMNT</td>\n",
       "      <td>$104736.00</td>\n",
       "    </tr>\n",
       "  </tbody>\n",
       "</table>\n",
       "</div>"
      ],
      "text/plain": [
       "                  Name        Department Employee Annual Salary\n",
       "0      AARON,  ELVIA J       WATER MGMNT              $88968.00\n",
       "1    AARON,  JEFFERY M            POLICE              $80778.00\n",
       "2       AARON,  KARINA            POLICE              $80778.00\n",
       "3  AARON,  KIMBERLEI R  GENERAL SERVICES              $84780.00\n",
       "4  ABAD JR,  VICENTE M       WATER MGMNT             $104736.00"
      ]
     },
     "execution_count": 14,
     "metadata": {},
     "output_type": "execute_result"
    }
   ],
   "source": [
    "# We can use a subset of the columns\n",
    "no_title = pd.read_csv('data/chicago-salaries.csv', usecols=['Name', 'Department', 'Employee Annual Salary'])\n",
    "no_title.head()"
   ]
  },
  {
   "cell_type": "code",
   "execution_count": 15,
   "metadata": {
    "collapsed": false
   },
   "outputs": [
    {
     "data": {
      "text/html": [
       "<div>\n",
       "<table border=\"1\" class=\"dataframe\">\n",
       "  <thead>\n",
       "    <tr style=\"text-align: right;\">\n",
       "      <th></th>\n",
       "      <th>name</th>\n",
       "      <th>title</th>\n",
       "      <th>department</th>\n",
       "      <th>salary</th>\n",
       "    </tr>\n",
       "  </thead>\n",
       "  <tbody>\n",
       "    <tr>\n",
       "      <th>0</th>\n",
       "      <td>AARON,  ELVIA J</td>\n",
       "      <td>WATER RATE TAKER</td>\n",
       "      <td>WATER MGMNT</td>\n",
       "      <td>$88968.00</td>\n",
       "    </tr>\n",
       "    <tr>\n",
       "      <th>1</th>\n",
       "      <td>AARON,  JEFFERY M</td>\n",
       "      <td>POLICE OFFICER</td>\n",
       "      <td>POLICE</td>\n",
       "      <td>$80778.00</td>\n",
       "    </tr>\n",
       "    <tr>\n",
       "      <th>2</th>\n",
       "      <td>AARON,  KARINA</td>\n",
       "      <td>POLICE OFFICER</td>\n",
       "      <td>POLICE</td>\n",
       "      <td>$80778.00</td>\n",
       "    </tr>\n",
       "    <tr>\n",
       "      <th>3</th>\n",
       "      <td>AARON,  KIMBERLEI R</td>\n",
       "      <td>CHIEF CONTRACT EXPEDITER</td>\n",
       "      <td>GENERAL SERVICES</td>\n",
       "      <td>$84780.00</td>\n",
       "    </tr>\n",
       "    <tr>\n",
       "      <th>4</th>\n",
       "      <td>ABAD JR,  VICENTE M</td>\n",
       "      <td>CIVIL ENGINEER IV</td>\n",
       "      <td>WATER MGMNT</td>\n",
       "      <td>$104736.00</td>\n",
       "    </tr>\n",
       "  </tbody>\n",
       "</table>\n",
       "</div>"
      ],
      "text/plain": [
       "                  name                     title        department      salary\n",
       "0      AARON,  ELVIA J          WATER RATE TAKER       WATER MGMNT   $88968.00\n",
       "1    AARON,  JEFFERY M            POLICE OFFICER            POLICE   $80778.00\n",
       "2       AARON,  KARINA            POLICE OFFICER            POLICE   $80778.00\n",
       "3  AARON,  KIMBERLEI R  CHIEF CONTRACT EXPEDITER  GENERAL SERVICES   $84780.00\n",
       "4  ABAD JR,  VICENTE M         CIVIL ENGINEER IV       WATER MGMNT  $104736.00"
      ]
     },
     "execution_count": 15,
     "metadata": {},
     "output_type": "execute_result"
    }
   ],
   "source": [
    "# We can use different column names\n",
    "# Specify index of header row to replace them with our names\n",
    "our_column_names = pd.read_csv('data/chicago-salaries.csv', header=0, names=['name', 'title', 'department', 'salary'])\n",
    "our_column_names.head()"
   ]
  },
  {
   "cell_type": "code",
   "execution_count": 16,
   "metadata": {
    "collapsed": false
   },
   "outputs": [
    {
     "data": {
      "text/html": [
       "<div>\n",
       "<table border=\"1\" class=\"dataframe\">\n",
       "  <thead>\n",
       "    <tr style=\"text-align: right;\">\n",
       "      <th></th>\n",
       "      <th>name</th>\n",
       "      <th>dept</th>\n",
       "      <th>salary</th>\n",
       "    </tr>\n",
       "  </thead>\n",
       "  <tbody>\n",
       "    <tr>\n",
       "      <th>0</th>\n",
       "      <td>AARON,  ELVIA J</td>\n",
       "      <td>WATER MGMNT</td>\n",
       "      <td>$88968.00</td>\n",
       "    </tr>\n",
       "    <tr>\n",
       "      <th>1</th>\n",
       "      <td>AARON,  JEFFERY M</td>\n",
       "      <td>POLICE</td>\n",
       "      <td>$80778.00</td>\n",
       "    </tr>\n",
       "    <tr>\n",
       "      <th>2</th>\n",
       "      <td>AARON,  KARINA</td>\n",
       "      <td>POLICE</td>\n",
       "      <td>$80778.00</td>\n",
       "    </tr>\n",
       "    <tr>\n",
       "      <th>3</th>\n",
       "      <td>AARON,  KIMBERLEI R</td>\n",
       "      <td>GENERAL SERVICES</td>\n",
       "      <td>$84780.00</td>\n",
       "    </tr>\n",
       "    <tr>\n",
       "      <th>4</th>\n",
       "      <td>ABAD JR,  VICENTE M</td>\n",
       "      <td>WATER MGMNT</td>\n",
       "      <td>$104736.00</td>\n",
       "    </tr>\n",
       "  </tbody>\n",
       "</table>\n",
       "</div>"
      ],
      "text/plain": [
       "                  name              dept      salary\n",
       "0      AARON,  ELVIA J       WATER MGMNT   $88968.00\n",
       "1    AARON,  JEFFERY M            POLICE   $80778.00\n",
       "2       AARON,  KARINA            POLICE   $80778.00\n",
       "3  AARON,  KIMBERLEI R  GENERAL SERVICES   $84780.00\n",
       "4  ABAD JR,  VICENTE M       WATER MGMNT  $104736.00"
      ]
     },
     "execution_count": 16,
     "metadata": {},
     "output_type": "execute_result"
    }
   ],
   "source": [
    "# Or we could both use a subset of columns and rename them\n",
    "no_title = pd.read_csv('data/chicago-salaries.csv', usecols=['Name', 'Department', 'Employee Annual Salary'])\n",
    "both = no_title.rename(columns={'Name': 'name', 'Department': 'dept', 'Employee Annual Salary': 'salary'})\n",
    "both.head()"
   ]
  },
  {
   "cell_type": "code",
   "execution_count": 20,
   "metadata": {
    "collapsed": false
   },
   "outputs": [
    {
     "data": {
      "text/html": [
       "<div>\n",
       "<table border=\"1\" class=\"dataframe\">\n",
       "  <thead>\n",
       "    <tr style=\"text-align: right;\">\n",
       "      <th></th>\n",
       "      <th>name</th>\n",
       "      <th>title</th>\n",
       "      <th>dept</th>\n",
       "      <th>salary</th>\n",
       "    </tr>\n",
       "  </thead>\n",
       "  <tbody>\n",
       "    <tr>\n",
       "      <th>0</th>\n",
       "      <td>AARON,  ELVIA J</td>\n",
       "      <td>WATER RATE TAKER</td>\n",
       "      <td>WATER MGMNT</td>\n",
       "      <td>88968</td>\n",
       "    </tr>\n",
       "    <tr>\n",
       "      <th>1</th>\n",
       "      <td>AARON,  JEFFERY M</td>\n",
       "      <td>POLICE OFFICER</td>\n",
       "      <td>POLICE</td>\n",
       "      <td>80778</td>\n",
       "    </tr>\n",
       "    <tr>\n",
       "      <th>2</th>\n",
       "      <td>AARON,  KARINA</td>\n",
       "      <td>POLICE OFFICER</td>\n",
       "      <td>POLICE</td>\n",
       "      <td>80778</td>\n",
       "    </tr>\n",
       "    <tr>\n",
       "      <th>3</th>\n",
       "      <td>AARON,  KIMBERLEI R</td>\n",
       "      <td>CHIEF CONTRACT EXPEDITER</td>\n",
       "      <td>GENERAL SERVICES</td>\n",
       "      <td>84780</td>\n",
       "    </tr>\n",
       "    <tr>\n",
       "      <th>4</th>\n",
       "      <td>ABAD JR,  VICENTE M</td>\n",
       "      <td>CIVIL ENGINEER IV</td>\n",
       "      <td>WATER MGMNT</td>\n",
       "      <td>104736</td>\n",
       "    </tr>\n",
       "  </tbody>\n",
       "</table>\n",
       "</div>"
      ],
      "text/plain": [
       "                  name                     title              dept  salary\n",
       "0      AARON,  ELVIA J          WATER RATE TAKER       WATER MGMNT   88968\n",
       "1    AARON,  JEFFERY M            POLICE OFFICER            POLICE   80778\n",
       "2       AARON,  KARINA            POLICE OFFICER            POLICE   80778\n",
       "3  AARON,  KIMBERLEI R  CHIEF CONTRACT EXPEDITER  GENERAL SERVICES   84780\n",
       "4  ABAD JR,  VICENTE M         CIVIL ENGINEER IV       WATER MGMNT  104736"
      ]
     },
     "execution_count": 20,
     "metadata": {},
     "output_type": "execute_result"
    }
   ],
   "source": [
    "# We can also pass converters on columns\n",
    "converted = pd.read_csv(\n",
    "    'data/chicago-salaries.csv',\n",
    "    converters={\n",
    "        'Employee Annual Salary': lambda x: float(x.replace('$', ''))\n",
    "    })\n",
    "chicago = converted.rename(columns={'Name': 'name', 'Position Title': 'title', 'Department': 'dept', 'Employee Annual Salary': 'salary'})\n",
    "chicago.head()"
   ]
  },
  {
   "cell_type": "code",
   "execution_count": 21,
   "metadata": {
    "collapsed": false
   },
   "outputs": [
    {
     "data": {
      "text/plain": [
       "POLICE                   13570\n",
       "FIRE                      4875\n",
       "STREETS & SAN             2090\n",
       "WATER MGMNT               1848\n",
       "AVIATION                  1344\n",
       "TRANSPORTN                1200\n",
       "OEMC                      1135\n",
       "PUBLIC LIBRARY             951\n",
       "GENERAL SERVICES           924\n",
       "FAMILY & SUPPORT           679\n",
       "FINANCE                    560\n",
       "HEALTH                     555\n",
       "LAW                        425\n",
       "CITY COUNCIL               397\n",
       "BUILDINGS                  257\n",
       "COMMUNITY DEVELOPMENT      212\n",
       "BUSINESS AFFAIRS           173\n",
       "BOARD OF ELECTION          111\n",
       "DoIT                       106\n",
       "MAYOR'S OFFICE              93\n",
       "IPRA                        83\n",
       "CITY CLERK                  82\n",
       "PROCUREMENT                 81\n",
       "CULTURAL AFFAIRS            79\n",
       "HUMAN RESOURCES             68\n",
       "ANIMAL CONTRL               67\n",
       "INSPECTOR GEN               54\n",
       "BUDGET & MGMT               43\n",
       "ADMIN HEARNG                39\n",
       "DISABILITIES                27\n",
       "TREASURER                   24\n",
       "HUMAN RELATIONS             17\n",
       "BOARD OF ETHICS              9\n",
       "POLICE BOARD                 2\n",
       "LICENSE APPL COMM            1\n",
       "dtype: int64"
      ]
     },
     "execution_count": 21,
     "metadata": {},
     "output_type": "execute_result"
    }
   ],
   "source": [
    "# Remember the tally method? Pandas makes it easy\n",
    "chicago['dept'].value_counts()"
   ]
  },
  {
   "cell_type": "code",
   "execution_count": 22,
   "metadata": {
    "collapsed": false
   },
   "outputs": [
    {
     "data": {
      "text/plain": [
       "name       AARON,  ELVIA J\n",
       "title     WATER RATE TAKER\n",
       "dept           WATER MGMNT\n",
       "salary               88968\n",
       "Name: 0, dtype: object"
      ]
     },
     "execution_count": 22,
     "metadata": {},
     "output_type": "execute_result"
    }
   ],
   "source": [
    "chicago.ix[0]"
   ]
  },
  {
   "cell_type": "code",
   "execution_count": 23,
   "metadata": {
    "collapsed": false
   },
   "outputs": [
    {
     "data": {
      "text/plain": [
       "dept\n",
       "ADMIN HEARNG              15\n",
       "ANIMAL CONTRL             17\n",
       "AVIATION                 123\n",
       "BOARD OF ELECTION         25\n",
       "BOARD OF ETHICS            9\n",
       "BUDGET & MGMT             24\n",
       "BUILDINGS                 50\n",
       "BUSINESS AFFAIRS          62\n",
       "CITY CLERK                37\n",
       "CITY COUNCIL              28\n",
       "COMMUNITY DEVELOPMENT     70\n",
       "CULTURAL AFFAIRS          39\n",
       "DISABILITIES              20\n",
       "DoIT                      41\n",
       "FAMILY & SUPPORT          99\n",
       "FINANCE                  104\n",
       "FIRE                      99\n",
       "GENERAL SERVICES         119\n",
       "HEALTH                   115\n",
       "HUMAN RELATIONS           12\n",
       "HUMAN RESOURCES           30\n",
       "INSPECTOR GEN             28\n",
       "IPRA                      22\n",
       "LAW                       52\n",
       "LICENSE APPL COMM          1\n",
       "MAYOR'S OFFICE            29\n",
       "OEMC                      70\n",
       "POLICE                   129\n",
       "POLICE BOARD               2\n",
       "PROCUREMENT               30\n",
       "PUBLIC LIBRARY            68\n",
       "STREETS & SAN             70\n",
       "TRANSPORTN               156\n",
       "TREASURER                 16\n",
       "WATER MGMNT              154\n",
       "dtype: int64"
      ]
     },
     "execution_count": 23,
     "metadata": {},
     "output_type": "execute_result"
    }
   ],
   "source": [
    "# Get number of distinct title within each department\n",
    "chicago.groupby('dept').apply(lambda df: len(set(df['title'])))"
   ]
  },
  {
   "cell_type": "code",
   "execution_count": 25,
   "metadata": {
    "collapsed": false
   },
   "outputs": [
    {
     "data": {
      "text/plain": [
       "dept\n",
       "ADMIN HEARNG                931\n",
       "ANIMAL CONTRL              1500\n",
       "AVIATION                  29052\n",
       "BOARD OF ELECTION          2924\n",
       "BOARD OF ETHICS             185\n",
       "BUDGET & MGMT               921\n",
       "BUILDINGS                  6294\n",
       "BUSINESS AFFAIRS           3917\n",
       "CITY CLERK                 1972\n",
       "CITY COUNCIL               7515\n",
       "COMMUNITY DEVELOPMENT      4567\n",
       "CULTURAL AFFAIRS           1843\n",
       "DISABILITIES                617\n",
       "DoIT                       2637\n",
       "FAMILY & SUPPORT          13727\n",
       "FINANCE                   11357\n",
       "FIRE                      74395\n",
       "GENERAL SERVICES          19313\n",
       "HEALTH                    13265\n",
       "HUMAN RELATIONS             491\n",
       "HUMAN RESOURCES            1435\n",
       "INSPECTOR GEN              1222\n",
       "IPRA                       1884\n",
       "LAW                        9239\n",
       "LICENSE APPL COMM            10\n",
       "MAYOR'S OFFICE             1941\n",
       "OEMC                      32690\n",
       "POLICE                   216020\n",
       "POLICE BOARD                 45\n",
       "PROCUREMENT                2022\n",
       "PUBLIC LIBRARY            15079\n",
       "STREETS & SAN             40932\n",
       "TRANSPORTN                21856\n",
       "TREASURER                   422\n",
       "WATER MGMNT               36369\n",
       "dtype: int64"
      ]
     },
     "execution_count": 25,
     "metadata": {},
     "output_type": "execute_result"
    }
   ],
   "source": [
    "# Sum of title lengths by dept\n",
    "chicago.groupby('dept').apply(lambda df: df['title'].map(lambda title: len(title)).sum())"
   ]
  },
  {
   "cell_type": "code",
   "execution_count": 26,
   "metadata": {
    "collapsed": false
   },
   "outputs": [
    {
     "data": {
      "text/plain": [
       "17"
      ]
     },
     "execution_count": 26,
     "metadata": {},
     "output_type": "execute_result"
    }
   ],
   "source": [
    "chicago['title'].map(lambda title: len(title)).sum() / len(chicago)"
   ]
  },
  {
   "cell_type": "code",
   "execution_count": 30,
   "metadata": {
    "collapsed": false
   },
   "outputs": [
    {
     "data": {
      "text/plain": [
       "<matplotlib.axes._subplots.AxesSubplot at 0x109ba8b90>"
      ]
     },
     "execution_count": 30,
     "metadata": {},
     "output_type": "execute_result"
    },
    {
     "data": {
      "image/png": "[encoded data removed]",
      "text/plain": [
       "<matplotlib.figure.Figure at 0x109bbc090>"
      ]
     },
     "metadata": {},
     "output_type": "display_data"
    }
   ],
   "source": [
    "def get_average_title_length(group):\n",
    "    return group.title.map(lambda x: len(x)).sum() / len(group)\n",
    "\n",
    "# Average title length by department\n",
    "title_length_by_dept = chicago.groupby('dept').apply(get_average_title_length).order(ascending=False)\n",
    "title_length_by_dept.plot(kind='barh', figsize(15, 15))"
   ]
  },
  {
   "cell_type": "code",
   "execution_count": 41,
   "metadata": {
    "collapsed": false
   },
   "outputs": [
    {
     "data": {
      "text/plain": [
       "dept\n",
       "POLICE            250644.00\n",
       "MAYOR'S OFFICE    216209.04\n",
       "FIRE              166212.00\n",
       "PUBLIC LIBRARY    160800.40\n",
       "LAW               158649.00\n",
       "dtype: float64"
      ]
     },
     "execution_count": 41,
     "metadata": {},
     "output_type": "execute_result"
    }
   ],
   "source": [
    "# Greatest salary discrepancy by dept\n",
    "sorted_diffs = chicago.groupby('dept').apply(lambda df: df['salary'].max() - df['salary'].min())\n",
    "sorted_diffs.sort(ascending=False)\n",
    "sorted_diffs.head()"
   ]
  },
  {
   "cell_type": "code",
   "execution_count": 35,
   "metadata": {
    "collapsed": false
   },
   "outputs": [
    {
     "data": {
      "text/plain": [
       "<matplotlib.axes._subplots.AxesSubplot at 0x10b110b10>"
      ]
     },
     "execution_count": 35,
     "metadata": {},
     "output_type": "execute_result"
    },
    {
     "data": {
      "image/png": "[encoded data removed]",
      "text/plain": [
       "<matplotlib.figure.Figure at 0x10b123150>"
      ]
     },
     "metadata": {},
     "output_type": "display_data"
    }
   ],
   "source": [
    "sorted_diffs.plot(kind='barh', figsize=(15,15), title=\"Salary Discrepancy by Department\")"
   ]
  },
  {
   "cell_type": "code",
   "execution_count": 44,
   "metadata": {
    "collapsed": false
   },
   "outputs": [
    {
     "data": {
      "text/html": [
       "<div>\n",
       "<table border=\"1\" class=\"dataframe\">\n",
       "  <thead>\n",
       "    <tr style=\"text-align: right;\">\n",
       "      <th></th>\n",
       "      <th>name</th>\n",
       "      <th>title</th>\n",
       "      <th>dept</th>\n",
       "      <th>salary</th>\n",
       "    </tr>\n",
       "  </thead>\n",
       "  <tbody>\n",
       "    <tr>\n",
       "      <th>25816</th>\n",
       "      <td>SCHELLS,  SHAKALA D</td>\n",
       "      <td>POLICE CADET</td>\n",
       "      <td>POLICE</td>\n",
       "      <td>9360</td>\n",
       "    </tr>\n",
       "    <tr>\n",
       "      <th>30741</th>\n",
       "      <td>WHITE,  JAHAZIEL J</td>\n",
       "      <td>PROGRAM AIDE</td>\n",
       "      <td>POLICE</td>\n",
       "      <td>9360</td>\n",
       "    </tr>\n",
       "    <tr>\n",
       "      <th>19521</th>\n",
       "      <td>MOORE,  KEMON J</td>\n",
       "      <td>PROGRAM AIDE</td>\n",
       "      <td>POLICE</td>\n",
       "      <td>9360</td>\n",
       "    </tr>\n",
       "    <tr>\n",
       "      <th>5920</th>\n",
       "      <td>CRUMP,  AUTUMN R</td>\n",
       "      <td>POLICE CADET</td>\n",
       "      <td>POLICE</td>\n",
       "      <td>9360</td>\n",
       "    </tr>\n",
       "    <tr>\n",
       "      <th>9658</th>\n",
       "      <td>GARDNER,  KAWANDA D</td>\n",
       "      <td>PROGRAM AIDE</td>\n",
       "      <td>POLICE</td>\n",
       "      <td>9360</td>\n",
       "    </tr>\n",
       "  </tbody>\n",
       "</table>\n",
       "</div>"
      ],
      "text/plain": [
       "                      name         title    dept  salary\n",
       "25816  SCHELLS,  SHAKALA D  POLICE CADET  POLICE    9360\n",
       "30741   WHITE,  JAHAZIEL J  PROGRAM AIDE  POLICE    9360\n",
       "19521      MOORE,  KEMON J  PROGRAM AIDE  POLICE    9360\n",
       "5920      CRUMP,  AUTUMN R  POLICE CADET  POLICE    9360\n",
       "9658   GARDNER,  KAWANDA D  PROGRAM AIDE  POLICE    9360"
      ]
     },
     "execution_count": 44,
     "metadata": {},
     "output_type": "execute_result"
    }
   ],
   "source": [
    "# Lets look closer on the police department\n",
    "police_salaries = chicago[chicago['dept'] == 'POLICE'].sort('salary')\n",
    "police_salaries.head()"
   ]
  },
  {
   "cell_type": "code",
   "execution_count": 45,
   "metadata": {
    "collapsed": false
   },
   "outputs": [
    {
     "data": {
      "text/plain": [
       "dept\n",
       "POLICE            260004\n",
       "MAYOR'S OFFICE    216210\n",
       "FIRE              202728\n",
       "HEALTH            177000\n",
       "LAW               173664\n",
       "dtype: float64"
      ]
     },
     "execution_count": 45,
     "metadata": {},
     "output_type": "execute_result"
    }
   ],
   "source": [
    "# What are the max salaries in each department?\n",
    "max_salaries = chicago.groupby('dept').apply(lambda df: df['salary'].max()).sort(ascending=False, inplace=False)\n",
    "max_salaries.head()"
   ]
  },
  {
   "cell_type": "code",
   "execution_count": 38,
   "metadata": {
    "collapsed": false
   },
   "outputs": [
    {
     "data": {
      "text/plain": [
       "<matplotlib.axes._subplots.AxesSubplot at 0x10b834a10>"
      ]
     },
     "execution_count": 38,
     "metadata": {},
     "output_type": "execute_result"
    },
    {
     "data": {
      "image/png": "[encoded data removed]",
      "text/plain": [
       "<matplotlib.figure.Figure at 0x10b8816d0>"
      ]
     },
     "metadata": {},
     "output_type": "display_data"
    }
   ],
   "source": [
    "max_salaries.plot(title=\"Top Salaries by Department\", figsize=(15,15), kind='barh')"
   ]
  },
  {
   "cell_type": "code",
   "execution_count": 40,
   "metadata": {
    "collapsed": false
   },
   "outputs": [
    {
     "data": {
      "text/plain": [
       "count        35.000000\n",
       "mean     157353.942857\n",
       "std       31279.788341\n",
       "min       69888.000000\n",
       "25%      144996.000000\n",
       "50%      157092.000000\n",
       "75%      167508.000000\n",
       "max      260004.000000\n",
       "dtype: float64"
      ]
     },
     "execution_count": 40,
     "metadata": {},
     "output_type": "execute_result"
    }
   ],
   "source": [
    "max_salaries.describe()"
   ]
  },
  {
   "cell_type": "code",
   "execution_count": null,
   "metadata": {
    "collapsed": true
   },
   "outputs": [],
   "source": []
  }
 ],
 "metadata": {
  "kernelspec": {
   "display_name": "Python 2",
   "language": "python",
   "name": "python2"
  },
  "language_info": {
   "codemirror_mode": {
    "name": "ipython",
    "version": 2
   },
   "file_extension": ".py",
   "mimetype": "text/x-python",
   "name": "python",
   "nbconvert_exporter": "python",
   "pygments_lexer": "ipython2",
   "version": "2.7.10"
  }
 },
 "nbformat": 4,
 "nbformat_minor": 0
}
